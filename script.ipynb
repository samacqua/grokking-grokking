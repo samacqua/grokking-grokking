{
 "cells": [
  {
   "cell_type": "code",
   "execution_count": null,
   "metadata": {},
   "outputs": [
    {
     "name": "stdout",
     "output_type": "stream",
     "text": [
      "using config: {'dataset': {'name': 'mod_subtract_dataset', 'p': 96, 'frac_train': 0.4}, 'model': {'name': 'grokk_model', 'transformer_config': {'max_length': 5, 'heads': 4, 'hidden_dim': 128, 'attn_dim': 32, 'intermediate_dim': 512, 'num_blocks': 2, 'block_repeats': 1, 'dropout': 0.1, 'pre_norm': True}, 'checkpoint_path': None, 'strict_load': True}, 'train': {'num_workers': 0, 'bsize': 512, 'lr': 0.001, 'weight_decay': 0.0, 'betas': [0.9, 0.98], 'warmup_steps': 10, 'eval_every': 10, 'eval_batches': 8, 'max_steps': 1000000.0}, 'wandb': {'use_wandb': True, 'wandb_project': 'grokking_replica'}}\n"
     ]
    },
    {
     "name": "stderr",
     "output_type": "stream",
     "text": [
      "wandb: Currently logged in as: samacqua (use `wandb login --relogin` to force relogin)\n",
      "wandb: wandb version 0.15.7 is available!  To upgrade, please run:\n",
      "wandb:  $ pip install wandb --upgrade\n",
      "wandb: Tracking run with wandb version 0.12.6\n",
      "wandb: Syncing run lively-morning-3\n",
      "wandb:  View project at https://wandb.ai/samacqua/grokking_replica\n",
      "wandb:  View run at https://wandb.ai/samacqua/grokking_replica/runs/20h6h2dj\n",
      "wandb: Run data is saved locally in /Users/samacquaviva/Documents/projects/grokking-grokking/grokking-replication/scripts/outputs/2023-08-01/09-16-00/wandb/run-20230801_091601-20h6h2dj\n",
      "wandb: Run `wandb offline` to turn off syncing.\n"
     ]
    },
    {
     "name": "stdout",
     "output_type": "stream",
     "text": [
      "\n",
      "loading mod_subtract_dataset: {'p': 96, 'frac_train': 0.4}\n",
      "loading grokk_model: {'transformer_config': {'max_length': 5, 'heads': 4, 'hidden_dim': 128, 'attn_dim': 32, 'intermediate_dim': 512, 'num_blocks': 2, 'block_repeats': 1, 'dropout': 0.1, 'pre_norm': True}, 'checkpoint_path': None, 'strict_load': True}\n"
     ]
    },
    {
     "name": "stderr",
     "output_type": "stream",
     "text": [
      "9it [00:01,  4.92it/s]\n",
      "0it [00:00, ?it/s]\u001b[A\n",
      "2it [00:00, 12.94it/s]\u001b[A\n",
      "4it [00:00, 13.73it/s]\u001b[A\n",
      "6it [00:00, 14.42it/s]\u001b[A\n",
      "8it [00:00, 14.23it/s]\u001b[A\n"
     ]
    },
    {
     "name": "stdout",
     "output_type": "stream",
     "text": [
      "{'val': {'loss': 4.609330415725708, 'accuracy': 0.00927734375, 'attn_entropy': 0.7273487821221352, 'param_norm': 120.77551637013599}, 'train': {'loss': 4.582050800323486, 'accuracy': 0.009765625, 'attn_entropy': 0.6402872502803802, 'param_norm': 120.77123575262095}, 'step': 10, 'lr': 0.001}\n"
     ]
    },
    {
     "name": "stderr",
     "output_type": "stream",
     "text": [
      "19it [00:04,  4.88it/s]\n",
      "0it [00:00, ?it/s]\u001b[A\n",
      "2it [00:00, 15.66it/s]\u001b[A\n",
      "4it [00:00, 16.38it/s]\u001b[A\n",
      "6it [00:00, 16.57it/s]\u001b[A\n"
     ]
    },
    {
     "name": "stdout",
     "output_type": "stream",
     "text": [
      "{'val': {'loss': 4.621166408061981, 'accuracy': 0.00830078125, 'attn_entropy': 0.6599611155688763, 'param_norm': 120.81017406003365}, 'train': {'loss': 4.587944507598877, 'accuracy': 0.01171875, 'attn_entropy': 0.5631438493728638, 'param_norm': 120.80971486362317}, 'step': 20, 'lr': 0.001}\n"
     ]
    },
    {
     "name": "stderr",
     "output_type": "stream",
     "text": [
      "8it [00:00, 15.89it/s]\u001b[A\n"
     ]
    },
    {
     "name": "stdout",
     "output_type": "stream",
     "text": [
      "Error while terminating subprocess (pid=74191): \n"
     ]
    },
    {
     "name": "stderr",
     "output_type": "stream",
     "text": [
      "29it [00:06,  5.05it/s]\n",
      "0it [00:00, ?it/s]\u001b[A\n",
      "2it [00:00, 13.02it/s]\u001b[A\n",
      "4it [00:00, 15.02it/s]\u001b[A\n",
      "6it [00:00, 13.93it/s]\u001b[A\n",
      "8it [00:00, 12.87it/s]\u001b[A\n"
     ]
    },
    {
     "name": "stdout",
     "output_type": "stream",
     "text": [
      "{'val': {'loss': 4.603528738021851, 'accuracy': 0.007080078125, 'attn_entropy': 0.6534078679978848, 'param_norm': 120.82125879404921}, 'train': {'loss': 4.559915542602539, 'accuracy': 0.01171875, 'attn_entropy': 0.5657731294631958, 'param_norm': 120.81870149296837}, 'step': 30, 'lr': 0.001}\n"
     ]
    },
    {
     "name": "stderr",
     "output_type": "stream",
     "text": [
      "39it [00:09,  5.37it/s]\n",
      "0it [00:00, ?it/s]\u001b[A\n",
      "2it [00:00, 15.02it/s]\u001b[A\n",
      "4it [00:00, 13.93it/s]\u001b[A\n",
      "6it [00:00, 14.17it/s]\u001b[A\n",
      "8it [00:00, 14.12it/s]\u001b[A\n"
     ]
    },
    {
     "name": "stdout",
     "output_type": "stream",
     "text": [
      "{'val': {'loss': 4.59569376707077, 'accuracy': 0.00927734375, 'attn_entropy': 0.5473267510533333, 'param_norm': 120.85655888309644}, 'train': {'loss': 4.5768561363220215, 'accuracy': 0.0078125, 'attn_entropy': 0.4644997864961624, 'param_norm': 120.85253121052494}, 'step': 40, 'lr': 0.001}\n"
     ]
    },
    {
     "name": "stderr",
     "output_type": "stream",
     "text": [
      "49it [00:11,  5.17it/s]\n",
      "0it [00:00, ?it/s]\u001b[A\n",
      "2it [00:00, 15.48it/s]\u001b[A\n",
      "4it [00:00, 15.78it/s]\u001b[A\n",
      "6it [00:00, 15.81it/s]\u001b[A\n",
      "8it [00:00, 15.18it/s]\u001b[A\n"
     ]
    },
    {
     "name": "stdout",
     "output_type": "stream",
     "text": [
      "{'val': {'loss': 4.593821465969086, 'accuracy': 0.006591796875, 'attn_entropy': 0.4768710322678089, 'param_norm': 120.9007054975725}, 'train': {'loss': 4.565756320953369, 'accuracy': 0.015625, 'attn_entropy': 0.3910326212644577, 'param_norm': 120.89552120161575}, 'step': 50, 'lr': 0.001}\n"
     ]
    },
    {
     "name": "stderr",
     "output_type": "stream",
     "text": [
      "59it [00:14,  5.33it/s]\n",
      "0it [00:00, ?it/s]\u001b[A\n",
      "1it [00:00,  6.51it/s]\u001b[A\n",
      "2it [00:00,  5.39it/s]\u001b[A\n",
      "3it [00:00,  6.21it/s]\u001b[A\n",
      "4it [00:00,  6.97it/s]\u001b[A\n",
      "5it [00:00,  7.41it/s]\u001b[A\n",
      "6it [00:00,  7.08it/s]\u001b[A\n",
      "7it [00:00,  7.68it/s]\u001b[A\n",
      "8it [00:01,  7.11it/s]\u001b[A\n"
     ]
    },
    {
     "name": "stdout",
     "output_type": "stream",
     "text": [
      "{'val': {'loss': 4.595937728881836, 'accuracy': 0.005615234375, 'attn_entropy': 0.42936210334300995, 'param_norm': 120.95975641563803}, 'train': {'loss': 4.56777811050415, 'accuracy': 0.017578125, 'attn_entropy': 0.339048832654953, 'param_norm': 120.95316931730035}, 'step': 60, 'lr': 0.001}\n"
     ]
    },
    {
     "name": "stderr",
     "output_type": "stream",
     "text": [
      "69it [00:17,  5.23it/s]\n",
      "0it [00:00, ?it/s]\u001b[A\n",
      "2it [00:00, 15.36it/s]\u001b[A\n",
      "4it [00:00, 16.15it/s]\u001b[A\n",
      "6it [00:00, 14.79it/s]\u001b[A\n",
      "8it [00:00, 14.93it/s]\u001b[A\n"
     ]
    },
    {
     "name": "stdout",
     "output_type": "stream",
     "text": [
      "{'val': {'loss': 4.612362444400787, 'accuracy': 0.00634765625, 'attn_entropy': 0.391898475587368, 'param_norm': 121.03090799127382}, 'train': {'loss': 4.544259548187256, 'accuracy': 0.01171875, 'attn_entropy': 0.3066537380218506, 'param_norm': 121.02295154790004}, 'step': 70, 'lr': 0.001}\n"
     ]
    }
   ],
   "source": [
    "%%bash\n",
    "cd grokking-replication\n",
    "export PYTHONPATH=$(pwd)/grokk_replica/\n",
    "cd scripts/\n",
    "python train_grokk.py"
   ]
  },
  {
   "cell_type": "code",
   "execution_count": 4,
   "metadata": {},
   "outputs": [
    {
     "name": "stdout",
     "output_type": "stream",
     "text": [
      "Namespace(batch_size=-1, debug=False, decoder_depth=2, decoder_width=256, device='cpu', dropout=0.0, epochs=10, esam_rho=0.05, exp_name=None, latent_dim=256, log=0, loss='cross_entropy', lr_decoder=0.001, lr_rep=0.001, m=53, p=53, perfect_rep=False, plot=0, rep_noise=False, save_ckpt=False, save_weights=False, seed=1, split_ratio=0.8, stop_early=False, tune=0, use_esam=False, weight_decay=0.0)\n"
     ]
    },
    {
     "name": "stderr",
     "output_type": "stream",
     "text": [
      "Loss 3.66e+00|4.71e+00 || Acc 0.122|0.000: 100%|██████████| 10/10 [00:00<00:00, 26.99it/s]\n"
     ]
    }
   ],
   "source": [
    "%%bash\n",
    "cd grokking-squared/\n",
    "python -m scripts.modular-mlp\n"
   ]
  }
 ],
 "metadata": {
  "kernelspec": {
   "display_name": "venv",
   "language": "python",
   "name": "python3"
  },
  "language_info": {
   "codemirror_mode": {
    "name": "ipython",
    "version": 3
   },
   "file_extension": ".py",
   "mimetype": "text/x-python",
   "name": "python",
   "nbconvert_exporter": "python",
   "pygments_lexer": "ipython3",
   "version": "3.8.16"
  },
  "orig_nbformat": 4
 },
 "nbformat": 4,
 "nbformat_minor": 2
}
